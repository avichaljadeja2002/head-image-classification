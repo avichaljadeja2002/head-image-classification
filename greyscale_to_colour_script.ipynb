{
 "cells": [
  {
   "cell_type": "code",
   "execution_count": null,
   "metadata": {},
   "outputs": [],
   "source": [
    "import numpy as np\n",
    "from PIL import Image\n",
    "import cv2\n",
    "import os\n",
    "\n",
    "def grayscale_to_color(image_path, output_path, colormap=cv2.COLORMAP_JET):\n",
    "    grayscale_image = cv2.imread(image_path, cv2.IMREAD_GRAYSCALE)\n",
    "\n",
    "    if grayscale_image is None:\n",
    "        print(f\"Error: Could not load image {image_path}.\")\n",
    "        return\n",
    "\n",
    "    color_image = cv2.applyColorMap(grayscale_image, colormap)\n",
    "\n",
    "    cv2.imwrite(output_path, color_image)\n",
    "    print(f\"Colorized image saved to {output_path}\")\n",
    "\n",
    "person_name = \"an2i\"\n",
    "folder_path = os.path.join(\"faces\", person_name)\n",
    "augmented_folder = os.path.join(folder_path, person_name + \"_colour\")\n",
    "os.makedirs(augmented_folder, exist_ok=True)\n",
    "\n",
    "for filename in os.listdir(folder_path):\n",
    "    file_path = os.path.join(folder_path, filename)\n",
    "    \n",
    "    if filename.lower().endswith('.bad') or not filename.lower().endswith(('.png', '.jpg', '.jpeg', '.bmp')):\n",
    "        print(f\"Skipping non-image or .bad file: {filename}\")\n",
    "        continue\n",
    "\n",
    "    output_path = os.path.join(augmented_folder, filename)\n",
    "    \n",
    "    grayscale_to_color(file_path, output_path)\n",
    "\n",
    "print(\"All images processed.\")\n"
   ]
  }
 ],
 "metadata": {
  "kernelspec": {
   "display_name": "Python 3",
   "language": "python",
   "name": "python3"
  },
  "language_info": {
   "codemirror_mode": {
    "name": "ipython",
    "version": 3
   },
   "file_extension": ".py",
   "mimetype": "text/x-python",
   "name": "python",
   "nbconvert_exporter": "python",
   "pygments_lexer": "ipython3",
   "version": "3.11.5"
  }
 },
 "nbformat": 4,
 "nbformat_minor": 2
}
